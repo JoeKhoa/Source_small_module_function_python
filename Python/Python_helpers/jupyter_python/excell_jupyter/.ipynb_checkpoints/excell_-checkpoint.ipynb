{
 "cells": [
  {
   "cell_type": "markdown",
   "metadata": {},
   "source": [
    "# USE jupyter notebook, pandas"
   ]
  },
  {
   "cell_type": "markdown",
   "metadata": {},
   "source": [
    "! installing: https://www.dataquest.io/blog/jupyter-notebook-tutorial/\n",
    "              https://realpython.com/jupyter-notebook-introduction/\n",
    "              \n",
    "! shortkey: https://towardsdatascience.com/jypyter-notebook-shortcuts-bf0101a98330\n",
    "\n",
    "! pandas :  https://nordiccoder.com/blog/python-pandas-excel-la-gi-cac-vi-du/\n",
    "\n",
    "1. get excel file to python (read_excel)\n",
    "2. get excell_info (sheet_name...)\n",
    "3. "
   ]
  },
  {
   "cell_type": "code",
   "execution_count": 249,
   "metadata": {},
   "outputs": [
    {
     "name": "stdout",
     "output_type": "stream",
     "text": [
      "['1900s', '2000s', '2010s']\n"
     ]
    }
   ],
   "source": [
    "import pandas as pd\n",
    "\n",
    "movies_excel_file = 'movies.xls'\n",
    "movies_data = pd.read_excel(movies_excel_file) \n",
    "movies_sheet1= pd.read_excel(movies_excel_file,sheet_name=2,index_col=1) \n",
    "excel_file_info = pd.ExcelFile(movies_excel_file) \n",
    "\"\"\"get all excel file information\"\"\"\n",
    "\n",
    "file_sheet_names = excel_file_info.sheet_names\n",
    "# for name in file_sheet_names: print(name)\n",
    "#     print(name)\n",
    "print(file_sheet_names)\n"
   ]
  },
  {
   "cell_type": "markdown",
   "metadata": {},
   "source": [
    "Define sheet number, and get data from every sheet then merge by concat!"
   ]
  },
  {
   "cell_type": "code",
   "execution_count": 360,
   "metadata": {},
   "outputs": [
    {
     "name": "stdout",
     "output_type": "stream",
     "text": [
      "(5042, 24)\n"
     ]
    }
   ],
   "source": [
    "movies = None\n",
    "_movies_sheets = []\n",
    "for key, move_sheet in enumerate(file_sheet_names):\n",
    "    movies_sheet = pd.read_excel(movies_excel_file, sheet_name=key, index_col=0)\n",
    "    _movies_sheets.append(movies_sheet)    \n",
    "\n",
    "movies = pd.concat(_movies_sheets)\n",
    "# print(len(movies_sheets))\n",
    "# columns, rows\n",
    "print(movies.shape)\n",
    "# print(movies.tail())"
   ]
  },
  {
   "cell_type": "markdown",
   "metadata": {},
   "source": [
    "!!! ExcelFile vs read_excell\n",
    "Với ExcelFile, bạn chỉ cần truyền tệp Excel một lần và sau đó bạn có thể sử dụng tệp đó để lấy DataFrames. Khi sử dụng read_excel, bạn chuyển tệp Excel mỗi lần và do đó tệp được tải lại cho mỗi trang tính."
   ]
  },
  {
   "cell_type": "code",
   "execution_count": 250,
   "metadata": {},
   "outputs": [
    {
     "name": "stdout",
     "output_type": "stream",
     "text": [
      "Title\n",
      "Avatar             760505847.0\n",
      "Titanic            658672302.0\n",
      "Jurassic World     652177271.0\n",
      "The Avengers       623279547.0\n",
      "The Avengers 2     623279547.0\n",
      "Name: Gross Earnings, dtype: float64\n"
     ]
    }
   ],
   "source": [
    "\"\"\"Sort data\"\"\"\n",
    "sort_by_gross = movies.sort_values ('Gross Earnings', ascending=False)\n",
    "# print (sort_by_gross.head(3))\n",
    "print(sort_by_gross[\"Gross Earnings\"].head(5))"
   ]
  },
  {
   "cell_type": "markdown",
   "metadata": {},
   "source": [
    "Write plot for data excell\n"
   ]
  },
  {
   "cell_type": "code",
   "execution_count": 251,
   "metadata": {
    "scrolled": true
   },
   "outputs": [
    {
     "data": {
      "image/png": "[encoded data removed]",
      "text/plain": [
       "<Figure size 432x288 with 1 Axes>"
      ]
     },
     "metadata": {
      "needs_background": "light"
     },
     "output_type": "display_data"
    },
    {
     "data": {
      "image/png": "[encoded data removed]",
      "text/plain": [
       "<Figure size 432x288 with 1 Axes>"
      ]
     },
     "metadata": {
      "needs_background": "light"
     },
     "output_type": "display_data"
    }
   ],
   "source": [
    "import matplotlib.pyplot as plt \n",
    "\n",
    "sort_by_gross['Gross Earnings'].head(10).plot(kind='barh')\n",
    "plt.show()\n",
    "\n",
    "\n",
    "movies['IMDB Score'].plot(kind='hist')\n",
    "plt.show()\n",
    "\n"
   ]
  },
  {
   "cell_type": "code",
   "execution_count": 243,
   "metadata": {},
   "outputs": [],
   "source": [
    "\"\"\"create statics\"\"\"\n",
    "import math\n",
    "\n",
    "def round_up(n, decimal=0):\n",
    "    multiple  = 10**decimal\n",
    "    return math.ceil(n*multiple)/multiple\n",
    "\n",
    "# movies.describe()\n",
    "revenue  = movies[\"Gross Earnings\"].mean()\n",
    "# print(round_up(revenue,2))\n",
    "# movies['Budget'].mean()"
   ]
  },
  {
   "cell_type": "code",
   "execution_count": 325,
   "metadata": {},
   "outputs": [
    {
     "name": "stdout",
     "output_type": "stream",
     "text": [
      "                                               Title  Year             Genres  \\\n",
      "0  Intolerance: Love's Struggle Throughout the Ages   1916  Drama|History|War   \n",
      "1                    Over the Hill to the Poorhouse   1920        Crime|Drama   \n",
      "2                                    The Big Parade   1925  Drama|Romance|War   \n",
      "\n",
      "  Language Country Content Rating  Duration  Aspect Ratio    Budget  \\\n",
      "0      NaN     USA      Not Rated       123          1.33  385907.0   \n",
      "1      NaN     USA            NaN       110          1.33  100000.0   \n",
      "2      NaN     USA      Not Rated       151          1.33  245000.0   \n",
      "\n",
      "   Gross Earnings  ... Facebook Likes - Actor 1 Facebook Likes - Actor 2  \\\n",
      "0             NaN  ...                      436                       22   \n",
      "1       3000000.0  ...                        2                        2   \n",
      "2             NaN  ...                       81                       12   \n",
      "\n",
      "  Facebook Likes - Actor 3 Facebook Likes - cast Total  \\\n",
      "0                      9.0                         481   \n",
      "1                      0.0                           4   \n",
      "2                      6.0                         108   \n",
      "\n",
      "   Facebook likes - Movie  Facenumber in posters  User Votes  \\\n",
      "0                     691                      1       10718   \n",
      "1                       0                      1           5   \n",
      "2                     226                      0        4849   \n",
      "\n",
      "   Reviews by Users  Reviews by Crtiics  IMDB Score  \n",
      "0                88                69.0         8.0  \n",
      "1                 1                 1.0         4.8  \n",
      "2                45                48.0         8.3  \n",
      "\n",
      "[3 rows x 25 columns]\n",
      "\n",
      " **************************************************************************************************** \n",
      "\n"
     ]
    },
    {
     "data": {
      "text/html": [
       "<div>\n",
       "<style scoped>\n",
       "    .dataframe tbody tr th:only-of-type {\n",
       "        vertical-align: middle;\n",
       "    }\n",
       "\n",
       "    .dataframe tbody tr th {\n",
       "        vertical-align: top;\n",
       "    }\n",
       "\n",
       "    .dataframe thead th {\n",
       "        text-align: right;\n",
       "    }\n",
       "</style>\n",
       "<table border=\"1\" class=\"dataframe\">\n",
       "  <thead>\n",
       "    <tr style=\"text-align: right;\">\n",
       "      <th></th>\n",
       "      <th>The Big Parade</th>\n",
       "      <th>1925</th>\n",
       "      <th>Drama|Romance|War</th>\n",
       "      <th>Unnamed: 3</th>\n",
       "      <th>USA</th>\n",
       "      <th>Not Rated</th>\n",
       "      <th>151</th>\n",
       "      <th>1.33</th>\n",
       "      <th>245000</th>\n",
       "      <th>Unnamed: 9</th>\n",
       "      <th>...</th>\n",
       "      <th>81</th>\n",
       "      <th>12</th>\n",
       "      <th>6</th>\n",
       "      <th>108</th>\n",
       "      <th>226</th>\n",
       "      <th>0</th>\n",
       "      <th>4849</th>\n",
       "      <th>45</th>\n",
       "      <th>48</th>\n",
       "      <th>8.3</th>\n",
       "    </tr>\n",
       "  </thead>\n",
       "  <tbody>\n",
       "    <tr>\n",
       "      <th>0</th>\n",
       "      <td>Metropolis</td>\n",
       "      <td>1927</td>\n",
       "      <td>Drama|Sci-Fi</td>\n",
       "      <td>German</td>\n",
       "      <td>Germany</td>\n",
       "      <td>Not Rated</td>\n",
       "      <td>145</td>\n",
       "      <td>1.33</td>\n",
       "      <td>6000000.0</td>\n",
       "      <td>26435.0</td>\n",
       "      <td>...</td>\n",
       "      <td>136</td>\n",
       "      <td>23</td>\n",
       "      <td>18.0</td>\n",
       "      <td>203</td>\n",
       "      <td>12000</td>\n",
       "      <td>1</td>\n",
       "      <td>111841</td>\n",
       "      <td>413</td>\n",
       "      <td>260.0</td>\n",
       "      <td>8.3</td>\n",
       "    </tr>\n",
       "    <tr>\n",
       "      <th>1</th>\n",
       "      <td>Pandora's Box</td>\n",
       "      <td>1929</td>\n",
       "      <td>Crime|Drama|Romance</td>\n",
       "      <td>German</td>\n",
       "      <td>Germany</td>\n",
       "      <td>Not Rated</td>\n",
       "      <td>110</td>\n",
       "      <td>1.33</td>\n",
       "      <td>NaN</td>\n",
       "      <td>9950.0</td>\n",
       "      <td>...</td>\n",
       "      <td>426</td>\n",
       "      <td>20</td>\n",
       "      <td>3.0</td>\n",
       "      <td>455</td>\n",
       "      <td>926</td>\n",
       "      <td>1</td>\n",
       "      <td>7431</td>\n",
       "      <td>84</td>\n",
       "      <td>71.0</td>\n",
       "      <td>8.0</td>\n",
       "    </tr>\n",
       "  </tbody>\n",
       "</table>\n",
       "<p>2 rows × 25 columns</p>\n",
       "</div>"
      ],
      "text/plain": [
       "  The Big Parade   1925    Drama|Romance|War Unnamed: 3      USA  Not Rated  \\\n",
       "0     Metropolis   1927         Drama|Sci-Fi     German  Germany  Not Rated   \n",
       "1  Pandora's Box   1929  Crime|Drama|Romance     German  Germany  Not Rated   \n",
       "\n",
       "   151  1.33     245000  Unnamed: 9  ...   81  12     6  108    226  0  \\\n",
       "0  145  1.33  6000000.0     26435.0  ...  136  23  18.0  203  12000  1   \n",
       "1  110  1.33        NaN      9950.0  ...  426  20   3.0  455    926  1   \n",
       "\n",
       "     4849   45     48  8.3  \n",
       "0  111841  413  260.0  8.3  \n",
       "1    7431   84   71.0  8.0  \n",
       "\n",
       "[2 rows x 25 columns]"
      ]
     },
     "execution_count": 325,
     "metadata": {},
     "output_type": "execute_result"
    }
   ],
   "source": [
    "movies_skip_rows_cols = pd.read_excel('movies.xls')\n",
    "print(movies_skip_rows_cols.head(3))\n",
    "print('\\n', \"*\"*100, '\\n')\n",
    "\"\"\"Skip 5 rows\"\"\"\n",
    "movies_skip_rows_cols = pd.read_excel('movies.xls', skiprows=3)\n",
    "movies_skip_rows_cols.head(2)\n"
   ]
  },
  {
   "cell_type": "markdown",
   "metadata": {},
   "source": [
    "create sub-/ child table with a acouple of columns\n",
    "    "
   ]
  },
  {
   "cell_type": "code",
   "execution_count": 326,
   "metadata": {},
   "outputs": [
    {
     "data": {
      "text/html": [
       "<div>\n",
       "<style scoped>\n",
       "    .dataframe tbody tr th:only-of-type {\n",
       "        vertical-align: middle;\n",
       "    }\n",
       "\n",
       "    .dataframe tbody tr th {\n",
       "        vertical-align: top;\n",
       "    }\n",
       "\n",
       "    .dataframe thead th {\n",
       "        text-align: right;\n",
       "    }\n",
       "</style>\n",
       "<table border=\"1\" class=\"dataframe\">\n",
       "  <thead>\n",
       "    <tr style=\"text-align: right;\">\n",
       "      <th></th>\n",
       "      <th>Title</th>\n",
       "      <th>Year</th>\n",
       "      <th>Genres</th>\n",
       "      <th>Language</th>\n",
       "      <th>Country</th>\n",
       "      <th>Content Rating</th>\n",
       "      <th>Duration</th>\n",
       "      <th>Aspect Ratio</th>\n",
       "      <th>Budget</th>\n",
       "      <th>Gross Earnings</th>\n",
       "      <th>...</th>\n",
       "      <th>Facebook Likes - Actor 1</th>\n",
       "      <th>Facebook Likes - Actor 2</th>\n",
       "      <th>Facebook Likes - Actor 3</th>\n",
       "      <th>Facebook Likes - cast Total</th>\n",
       "      <th>Facebook likes - Movie</th>\n",
       "      <th>Facenumber in posters</th>\n",
       "      <th>User Votes</th>\n",
       "      <th>Reviews by Users</th>\n",
       "      <th>Reviews by Crtiics</th>\n",
       "      <th>IMDB Score</th>\n",
       "    </tr>\n",
       "  </thead>\n",
       "  <tbody>\n",
       "    <tr>\n",
       "      <th>1</th>\n",
       "      <td>Metropolis</td>\n",
       "      <td>1927</td>\n",
       "      <td>Drama|Sci-Fi</td>\n",
       "      <td>German</td>\n",
       "      <td>Germany</td>\n",
       "      <td>Not Rated</td>\n",
       "      <td>145</td>\n",
       "      <td>1.33</td>\n",
       "      <td>6000000.0</td>\n",
       "      <td>26435.0</td>\n",
       "      <td>...</td>\n",
       "      <td>136</td>\n",
       "      <td>23</td>\n",
       "      <td>18.0</td>\n",
       "      <td>203</td>\n",
       "      <td>12000</td>\n",
       "      <td>1</td>\n",
       "      <td>111841</td>\n",
       "      <td>413</td>\n",
       "      <td>260.0</td>\n",
       "      <td>8.3</td>\n",
       "    </tr>\n",
       "    <tr>\n",
       "      <th>2</th>\n",
       "      <td>Pandora's Box</td>\n",
       "      <td>1929</td>\n",
       "      <td>Crime|Drama|Romance</td>\n",
       "      <td>German</td>\n",
       "      <td>Germany</td>\n",
       "      <td>Not Rated</td>\n",
       "      <td>110</td>\n",
       "      <td>1.33</td>\n",
       "      <td>NaN</td>\n",
       "      <td>9950.0</td>\n",
       "      <td>...</td>\n",
       "      <td>426</td>\n",
       "      <td>20</td>\n",
       "      <td>3.0</td>\n",
       "      <td>455</td>\n",
       "      <td>926</td>\n",
       "      <td>1</td>\n",
       "      <td>7431</td>\n",
       "      <td>84</td>\n",
       "      <td>71.0</td>\n",
       "      <td>8.0</td>\n",
       "    </tr>\n",
       "    <tr>\n",
       "      <th>3</th>\n",
       "      <td>The Broadway Melody</td>\n",
       "      <td>1929</td>\n",
       "      <td>Musical|Romance</td>\n",
       "      <td>English</td>\n",
       "      <td>USA</td>\n",
       "      <td>Passed</td>\n",
       "      <td>100</td>\n",
       "      <td>1.37</td>\n",
       "      <td>379000.0</td>\n",
       "      <td>2808000.0</td>\n",
       "      <td>...</td>\n",
       "      <td>77</td>\n",
       "      <td>28</td>\n",
       "      <td>4.0</td>\n",
       "      <td>109</td>\n",
       "      <td>167</td>\n",
       "      <td>8</td>\n",
       "      <td>4546</td>\n",
       "      <td>71</td>\n",
       "      <td>36.0</td>\n",
       "      <td>6.3</td>\n",
       "    </tr>\n",
       "    <tr>\n",
       "      <th>4</th>\n",
       "      <td>Hell's Angels</td>\n",
       "      <td>1930</td>\n",
       "      <td>Drama|War</td>\n",
       "      <td>English</td>\n",
       "      <td>USA</td>\n",
       "      <td>Passed</td>\n",
       "      <td>96</td>\n",
       "      <td>1.20</td>\n",
       "      <td>3950000.0</td>\n",
       "      <td>NaN</td>\n",
       "      <td>...</td>\n",
       "      <td>431</td>\n",
       "      <td>12</td>\n",
       "      <td>4.0</td>\n",
       "      <td>457</td>\n",
       "      <td>279</td>\n",
       "      <td>1</td>\n",
       "      <td>3753</td>\n",
       "      <td>53</td>\n",
       "      <td>35.0</td>\n",
       "      <td>7.8</td>\n",
       "    </tr>\n",
       "    <tr>\n",
       "      <th>5</th>\n",
       "      <td>A Farewell to Arms</td>\n",
       "      <td>1932</td>\n",
       "      <td>Drama|Romance|War</td>\n",
       "      <td>English</td>\n",
       "      <td>USA</td>\n",
       "      <td>Unrated</td>\n",
       "      <td>79</td>\n",
       "      <td>1.37</td>\n",
       "      <td>800000.0</td>\n",
       "      <td>NaN</td>\n",
       "      <td>...</td>\n",
       "      <td>998</td>\n",
       "      <td>164</td>\n",
       "      <td>99.0</td>\n",
       "      <td>1284</td>\n",
       "      <td>213</td>\n",
       "      <td>1</td>\n",
       "      <td>3519</td>\n",
       "      <td>46</td>\n",
       "      <td>42.0</td>\n",
       "      <td>6.6</td>\n",
       "    </tr>\n",
       "  </tbody>\n",
       "</table>\n",
       "<p>5 rows × 25 columns</p>\n",
       "</div>"
      ],
      "text/plain": [
       "                  Title  Year               Genres Language  Country  \\\n",
       "1           Metropolis   1927         Drama|Sci-Fi   German  Germany   \n",
       "2        Pandora's Box   1929  Crime|Drama|Romance   German  Germany   \n",
       "3  The Broadway Melody   1929      Musical|Romance  English      USA   \n",
       "4        Hell's Angels   1930            Drama|War  English      USA   \n",
       "5   A Farewell to Arms   1932    Drama|Romance|War  English      USA   \n",
       "\n",
       "  Content Rating  Duration  Aspect Ratio     Budget  Gross Earnings  ...  \\\n",
       "1      Not Rated       145          1.33  6000000.0         26435.0  ...   \n",
       "2      Not Rated       110          1.33        NaN          9950.0  ...   \n",
       "3         Passed       100          1.37   379000.0       2808000.0  ...   \n",
       "4         Passed        96          1.20  3950000.0             NaN  ...   \n",
       "5        Unrated        79          1.37   800000.0             NaN  ...   \n",
       "\n",
       "  Facebook Likes - Actor 1 Facebook Likes - Actor 2 Facebook Likes - Actor 3  \\\n",
       "1                      136                       23                     18.0   \n",
       "2                      426                       20                      3.0   \n",
       "3                       77                       28                      4.0   \n",
       "4                      431                       12                      4.0   \n",
       "5                      998                      164                     99.0   \n",
       "\n",
       "  Facebook Likes - cast Total  Facebook likes - Movie  Facenumber in posters  \\\n",
       "1                         203                   12000                      1   \n",
       "2                         455                     926                      1   \n",
       "3                         109                     167                      8   \n",
       "4                         457                     279                      1   \n",
       "5                        1284                     213                      1   \n",
       "\n",
       "   User Votes  Reviews by Users  Reviews by Crtiics  IMDB Score  \n",
       "1      111841               413               260.0         8.3  \n",
       "2        7431                84                71.0         8.0  \n",
       "3        4546                71                36.0         6.3  \n",
       "4        3753                53                35.0         7.8  \n",
       "5        3519                46                42.0         6.6  \n",
       "\n",
       "[5 rows x 25 columns]"
      ]
     },
     "execution_count": 326,
     "metadata": {},
     "output_type": "execute_result"
    }
   ],
   "source": [
    "movies_skip_rows_cols.columns = ['Title', 'Year', 'Genres', 'Language', 'Country', \n",
    "                            'Content Rating', 'Duration', 'Aspect Ratio', 'Budget',\n",
    "                            'Gross Earnings', 'Director', 'Actor 1', 'Actor 2',\n",
    "                            'Actor 3', 'Facebook Likes - Director', 'Facebook Likes - Actor 1',\n",
    "                            'Facebook Likes - Actor 2', 'Facebook Likes - Actor 3', \n",
    "                            'Facebook Likes - cast Total', 'Facebook likes - Movie', 'Facenumber in posters',\n",
    "                            'User Votes', 'Reviews by Users', 'Reviews by Crtiics', 'IMDB Score']\n",
    "movies_skip_rows_cols.index +=1\n",
    "movies_skip_rows_cols.head()\n",
    "\n",
    "# movies_subset_columns = pd.read_excel(movies_excel_file, parse_cols=6)\n",
    "\n",
    "# movies_subset_columns.head()"
   ]
  },
  {
   "cell_type": "markdown",
   "metadata": {},
   "source": [
    "    Formular in col"
   ]
  },
  {
   "cell_type": "code",
   "execution_count": 327,
   "metadata": {},
   "outputs": [
    {
     "data": {
      "image/png": "[encoded data removed]",
      "text/plain": [
       "<Figure size 432x288 with 1 Axes>"
      ]
     },
     "metadata": {
      "needs_background": "light"
     },
     "output_type": "display_data"
    }
   ],
   "source": [
    "movies[\"Net Earnings\"] = movies[\"Gross Earnings\"] - movies[\"Budget\"]\n",
    "# movies.head()\n",
    "\n",
    "# sort_movies = movies[['Net Earnings']].sort_values(['Net Earnings'], ascending=[True])\n",
    "# sort_movies.head(15)['Net Earnings'].plot.barh()\n",
    "# plt.show()\n",
    "\n",
    "\n",
    "sorted_movies = movies[['Net Earnings']].sort_values(['Net Earnings'], ascending=[False])\n",
    "sorted_movies.head(10)['Net Earnings'].plot.barh()\n",
    "plt.show()\n"
   ]
  },
  {
   "cell_type": "markdown",
   "metadata": {},
   "source": [
    "Create sub-set/ pivot column -> reference/ statics table\n",
    "\n"
   ]
  },
  {
   "cell_type": "code",
   "execution_count": 336,
   "metadata": {},
   "outputs": [
    {
     "data": {
      "text/html": [
       "<div>\n",
       "<style scoped>\n",
       "    .dataframe tbody tr th:only-of-type {\n",
       "        vertical-align: middle;\n",
       "    }\n",
       "\n",
       "    .dataframe tbody tr th {\n",
       "        vertical-align: top;\n",
       "    }\n",
       "\n",
       "    .dataframe thead th {\n",
       "        text-align: right;\n",
       "    }\n",
       "</style>\n",
       "<table border=\"1\" class=\"dataframe\">\n",
       "  <thead>\n",
       "    <tr style=\"text-align: right;\">\n",
       "      <th></th>\n",
       "      <th>Gross Earnings</th>\n",
       "    </tr>\n",
       "    <tr>\n",
       "      <th>Year</th>\n",
       "      <th></th>\n",
       "    </tr>\n",
       "  </thead>\n",
       "  <tbody>\n",
       "    <tr>\n",
       "      <th>1920.0</th>\n",
       "      <td>3000000.0</td>\n",
       "    </tr>\n",
       "    <tr>\n",
       "      <th>1927.0</th>\n",
       "      <td>26435.0</td>\n",
       "    </tr>\n",
       "    <tr>\n",
       "      <th>1929.0</th>\n",
       "      <td>1408975.0</td>\n",
       "    </tr>\n",
       "    <tr>\n",
       "      <th>1933.0</th>\n",
       "      <td>2300000.0</td>\n",
       "    </tr>\n",
       "    <tr>\n",
       "      <th>1935.0</th>\n",
       "      <td>3000000.0</td>\n",
       "    </tr>\n",
       "  </tbody>\n",
       "</table>\n",
       "</div>"
      ],
      "text/plain": [
       "        Gross Earnings\n",
       "Year                  \n",
       "1920.0       3000000.0\n",
       "1927.0         26435.0\n",
       "1929.0       1408975.0\n",
       "1933.0       2300000.0\n",
       "1935.0       3000000.0"
      ]
     },
     "execution_count": 336,
     "metadata": {},
     "output_type": "execute_result"
    }
   ],
   "source": [
    "sub_table_earning = movies[['Year','Gross Earnings']]\n",
    "# sub_table.columns = [1,2]\n",
    "sub_table_earning.head(3)\n",
    "\n",
    "\"\"\"pivot indexing by Year\"\"\"\n",
    "pivot_earning_by_year = sub_table_earning.pivot_table(index =['Year'])\n",
    "pivot_earning_by_year.head(5)"
   ]
  },
  {
   "cell_type": "raw",
   "metadata": {},
   "source": [
    "    plotting any table 2-axis or more ???\n",
    "        "
   ]
  },
  {
   "cell_type": "code",
   "execution_count": 352,
   "metadata": {},
   "outputs": [
    {
     "data": {
      "image/png": "[encoded data removed]",
      "text/plain": [
       "<Figure size 432x288 with 1 Axes>"
      ]
     },
     "metadata": {
      "needs_background": "light"
     },
     "output_type": "display_data"
    }
   ],
   "source": [
    "pivot_earning_by_year.plot()\n",
    "plt.show()"
   ]
  },
  {
   "cell_type": "code",
   "execution_count": 350,
   "metadata": {
    "scrolled": true
   },
   "outputs": [
    {
     "data": {
      "image/png": "[encoded data removed]",
      "text/plain": [
       "<Figure size 720x360 with 1 Axes>"
      ]
     },
     "metadata": {
      "needs_background": "light"
     },
     "output_type": "display_data"
    }
   ],
   "source": [
    "\"\"\"Pivot More columns\"\"\"\n",
    "sub_set_multi_col = movies[['Country', 'Language','Gross Earnings']]\n",
    "sub_set_multi_col.head(20)\n",
    "pivot_table_muti_index = sub_set_multi_col.pivot_table(index=['Country', 'Language'])\n",
    "pivot_to_plotting = pivot_table_muti_index.head(20)\n",
    "pivot_to_plotting.plot(kind='bar', figsize=(10,5))\n",
    "plt.show()\n",
    "\n"
   ]
  },
  {
   "cell_type": "markdown",
   "metadata": {},
   "source": [
    "# Export excell pandas to Excel files Object.to_exel.xlsx"
   ]
  },
  {
   "cell_type": "code",
   "execution_count": 393,
   "metadata": {},
   "outputs": [],
   "source": [
    "import uuid\n",
    "data_frame_to_export = pivot_to_plotting\n",
    "\n",
    "# def create_excel_file(data_frame_to_export):\n",
    "#     try:\n",
    "#         fname ='output-'+str(uuid.uuid4())+'.xlsx'\n",
    "#         data_frame_to_export.to_excel(fname)\n",
    "#         print(f'file {fname} is printed out')\n",
    "#     except:\n",
    "#         print(f'file {fname} is NOT printed out')\n",
    "data_frame_to_export.to_excel('output.xlsx')\n",
    "\n",
    "\n",
    "# fname = 'output-64b52eba-a7e7-4aa6-bde5-f975115d6677.xlsx'\n",
    "# file_excel_output = pd.read_excel(fname)\n",
    "# file_excel_output.shape\n",
    "# file_excel_output.plot(kind='bar')\n",
    "# plt.show()\n",
    "# file_excel_output.index +=1\n",
    "# file_excel_output['Country'].head(20)\n",
    "# file_excel_output[['Country', 'Language']].head(20)"
   ]
  },
  {
   "cell_type": "markdown",
   "metadata": {},
   "source": [
    "# Advance excel export__  xlsxwriter"
   ]
  },
  {
   "cell_type": "code",
   "execution_count": 398,
   "metadata": {},
   "outputs": [],
   "source": [
    "\n",
    "\n",
    "\n",
    "# writer = pd.ExcelWriter('output.xlsx', engine='xlsxwriter')\n",
    "# movies.to_excel(writer, index=False, sheet_name='report')\n",
    "# workbook = writer.bookworksheet = writer.sheets['report']\n",
    "\n",
    "\n",
    "# header_fmt = workbook.add_format({'bold': True})\n",
    "# worksheet.set_row(0, None, header_fmt)"
   ]
  },
  {
   "cell_type": "code",
   "execution_count": 421,
   "metadata": {},
   "outputs": [
    {
     "data": {
      "text/html": [
       "<div>\n",
       "<style scoped>\n",
       "    .dataframe tbody tr th:only-of-type {\n",
       "        vertical-align: middle;\n",
       "    }\n",
       "\n",
       "    .dataframe tbody tr th {\n",
       "        vertical-align: top;\n",
       "    }\n",
       "\n",
       "    .dataframe thead th {\n",
       "        text-align: right;\n",
       "    }\n",
       "</style>\n",
       "<table border=\"1\" class=\"dataframe\">\n",
       "  <thead>\n",
       "    <tr style=\"text-align: right;\">\n",
       "      <th></th>\n",
       "      <th>Day</th>\n",
       "      <th>Visitor</th>\n",
       "      <th>Bounce Day</th>\n",
       "    </tr>\n",
       "  </thead>\n",
       "  <tbody>\n",
       "    <tr>\n",
       "      <th>1</th>\n",
       "      <td>0</td>\n",
       "      <td>1</td>\n",
       "      <td>12</td>\n",
       "    </tr>\n",
       "    <tr>\n",
       "      <th>2</th>\n",
       "      <td>2</td>\n",
       "      <td>3</td>\n",
       "      <td>5</td>\n",
       "    </tr>\n",
       "    <tr>\n",
       "      <th>3</th>\n",
       "      <td>4</td>\n",
       "      <td>5</td>\n",
       "      <td>1</td>\n",
       "    </tr>\n",
       "    <tr>\n",
       "      <th>4</th>\n",
       "      <td>6</td>\n",
       "      <td>7</td>\n",
       "      <td>1</td>\n",
       "    </tr>\n",
       "    <tr>\n",
       "      <th>5</th>\n",
       "      <td>8</td>\n",
       "      <td>9</td>\n",
       "      <td>6</td>\n",
       "    </tr>\n",
       "  </tbody>\n",
       "</table>\n",
       "</div>"
      ],
      "text/plain": [
       "   Day  Visitor  Bounce Day\n",
       "1    0        1          12\n",
       "2    2        3           5\n",
       "3    4        5           1\n",
       "4    6        7           1\n",
       "5    8        9           6"
      ]
     },
     "execution_count": 421,
     "metadata": {},
     "output_type": "execute_result"
    }
   ],
   "source": [
    "web_start = {\n",
    "    'Day' : [0, 2, 4, 6, 8],\n",
    "    'Visitor' : [1, 3 , 5, 7, 9 ],\n",
    "    'Bounce Day' : [12, 5 , 1, 1, 6 ]\n",
    "}\n",
    "df = pd.DataFrame(web_start)\n",
    "df.index +=1\n",
    "df.head(2)\n",
    "# df.tail(2)\n",
    "df.set_index('Day')\n",
    "# df.head()\n",
    "# print(df['Visitor'])\n",
    "df[['Day','Visitor']]\n",
    "df.Visitor.tolist()\n",
    "df"
   ]
  },
  {
   "cell_type": "markdown",
   "metadata": {},
   "source": [
    "# change matrix array to DataFrame"
   ]
  },
  {
   "cell_type": "code",
   "execution_count": 423,
   "metadata": {},
   "outputs": [
    {
     "name": "stdout",
     "output_type": "stream",
     "text": [
      "   0  1\n",
      "0  0  1\n",
      "1  2  3\n",
      "2  4  5\n",
      "3  6  7\n",
      "4  8  9\n"
     ]
    }
   ],
   "source": [
    "import numpy as np\n",
    "array_np_to_df = pd.DataFrame(np.array(df[['Day','Visitor']]))\n",
    "print(array_np_to_df)\n"
   ]
  },
  {
   "cell_type": "markdown",
   "metadata": {},
   "source": [
    "# change DataFrame to  matrix array\n"
   ]
  },
  {
   "cell_type": "code",
   "execution_count": 427,
   "metadata": {},
   "outputs": [
    {
     "name": "stdout",
     "output_type": "stream",
     "text": [
      "[[0 1]\n",
      " [2 3]\n",
      " [4 5]\n",
      " [6 7]\n",
      " [8 9]]\n"
     ]
    }
   ],
   "source": [
    "arr = np.array(df[['Day','Visitor']])\n",
    "print(arr)"
   ]
  }
 ],
 "metadata": {
  "kernelspec": {
   "display_name": "Python 3",
   "language": "python",
   "name": "python3"
  },
  "language_info": {
   "codemirror_mode": {
    "name": "ipython",
    "version": 3
   },
   "file_extension": ".py",
   "mimetype": "text/x-python",
   "name": "python",
   "nbconvert_exporter": "python",
   "pygments_lexer": "ipython3",
   "version": "3.8.2"
  }
 },
 "nbformat": 4,
 "nbformat_minor": 4
}
